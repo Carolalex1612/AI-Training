{
  "nbformat": 4,
  "nbformat_minor": 0,
  "metadata": {
    "colab": {
      "provenance": [],
      "authorship_tag": "ABX9TyNJMht1AXEF0wFIiPdqQ8uP",
      "include_colab_link": true
    },
    "kernelspec": {
      "name": "python3",
      "display_name": "Python 3"
    },
    "language_info": {
      "name": "python"
    }
  },
  "cells": [
    {
      "cell_type": "markdown",
      "metadata": {
        "id": "view-in-github",
        "colab_type": "text"
      },
      "source": [
        "<a href=\"https://colab.research.google.com/github/Carolalex1612/AI-Training/blob/main/numpy_practice.ipynb\" target=\"_parent\"><img src=\"https://colab.research.google.com/assets/colab-badge.svg\" alt=\"Open In Colab\"/></a>"
      ]
    },
    {
      "cell_type": "markdown",
      "source": [
        "CREATING ARRAY"
      ],
      "metadata": {
        "id": "prn9OHjJrAB7"
      }
    },
    {
      "cell_type": "code",
      "execution_count": null,
      "metadata": {
        "colab": {
          "base_uri": "https://localhost:8080/"
        },
        "id": "6CWSdE1dcH1B",
        "outputId": "8178bfda-17e3-4312-8f9f-7f544a1fdc5b"
      },
      "outputs": [
        {
          "output_type": "execute_result",
          "data": {
            "text/plain": [
              "array([[2.9135872e-316, 0.0000000e+000],\n",
              "       [6.7167294e-310, 6.7167294e-310]])"
            ]
          },
          "metadata": {},
          "execution_count": 3
        }
      ],
      "source": [
        "import numpy as np\n",
        "\n",
        "np.empty([2,2])"
      ]
    },
    {
      "cell_type": "code",
      "source": [
        "np.eye(2, dtype=int, k= 1)\n"
      ],
      "metadata": {
        "colab": {
          "base_uri": "https://localhost:8080/"
        },
        "id": "QeKYZsRMrT73",
        "outputId": "59bf91f3-060c-4c45-c732-d2194e079925"
      },
      "execution_count": null,
      "outputs": [
        {
          "output_type": "execute_result",
          "data": {
            "text/plain": [
              "array([[0, 1],\n",
              "       [0, 0]])"
            ]
          },
          "metadata": {},
          "execution_count": 4
        }
      ]
    },
    {
      "cell_type": "code",
      "source": [
        "np.ones([2,3,4])"
      ],
      "metadata": {
        "colab": {
          "base_uri": "https://localhost:8080/"
        },
        "id": "G4JGhnlYtO22",
        "outputId": "9188b230-c4cf-4393-9764-c8e29a42a9ef"
      },
      "execution_count": null,
      "outputs": [
        {
          "output_type": "execute_result",
          "data": {
            "text/plain": [
              "array([[[1., 1., 1., 1.],\n",
              "        [1., 1., 1., 1.],\n",
              "        [1., 1., 1., 1.]],\n",
              "\n",
              "       [[1., 1., 1., 1.],\n",
              "        [1., 1., 1., 1.],\n",
              "        [1., 1., 1., 1.]]])"
            ]
          },
          "metadata": {},
          "execution_count": 5
        }
      ]
    },
    {
      "cell_type": "code",
      "source": [
        "x = np.array([[2, 3, 4],[3,4,5],[2,3,4]])\n",
        "np.ones_like(x)"
      ],
      "metadata": {
        "colab": {
          "base_uri": "https://localhost:8080/"
        },
        "id": "qq41vGcFt7pf",
        "outputId": "29de076e-8ed8-430b-fe18-13dfff565aa4"
      },
      "execution_count": null,
      "outputs": [
        {
          "output_type": "execute_result",
          "data": {
            "text/plain": [
              "array([[1, 1, 1],\n",
              "       [1, 1, 1],\n",
              "       [1, 1, 1]])"
            ]
          },
          "metadata": {},
          "execution_count": 6
        }
      ]
    },
    {
      "cell_type": "code",
      "source": [
        "y= np.zeros([2,3])\n",
        "print(y)"
      ],
      "metadata": {
        "colab": {
          "base_uri": "https://localhost:8080/"
        },
        "id": "KO3geDEpxt_s",
        "outputId": "a669b6a4-c47f-4c7a-b155-c0a60c8c294e"
      },
      "execution_count": null,
      "outputs": [
        {
          "output_type": "stream",
          "name": "stdout",
          "text": [
            "[[0. 0. 0.]\n",
            " [0. 0. 0.]]\n"
          ]
        }
      ]
    },
    {
      "cell_type": "code",
      "source": [
        "n1 = np.arange(10)\n",
        "print(n1)"
      ],
      "metadata": {
        "colab": {
          "base_uri": "https://localhost:8080/"
        },
        "id": "Qn4pAbv0x_dn",
        "outputId": "8c50f1b9-9c6c-4f73-990d-897f3d2fc671"
      },
      "execution_count": null,
      "outputs": [
        {
          "output_type": "stream",
          "name": "stdout",
          "text": [
            "[0 1 2 3 4 5 6 7 8 9]\n"
          ]
        }
      ]
    },
    {
      "cell_type": "code",
      "source": [
        "n2 = np.arange(-5,20,7 )\n",
        "print(n2)"
      ],
      "metadata": {
        "colab": {
          "base_uri": "https://localhost:8080/"
        },
        "id": "Lbm3AihvzxQS",
        "outputId": "a1a9f435-a114-4595-a713-608ca041aa74"
      },
      "execution_count": null,
      "outputs": [
        {
          "output_type": "stream",
          "name": "stdout",
          "text": [
            "[-5  2  9 16]\n"
          ]
        }
      ]
    },
    {
      "cell_type": "code",
      "source": [
        "n3 = np.linspace(2,45, num=5, dtype=int)\n",
        "print(n3)"
      ],
      "metadata": {
        "colab": {
          "base_uri": "https://localhost:8080/"
        },
        "id": "D07mTzH51KMw",
        "outputId": "8fd642c6-1216-4e57-dee3-5f5d5588ab48"
      },
      "execution_count": null,
      "outputs": [
        {
          "output_type": "stream",
          "name": "stdout",
          "text": [
            "[ 2 12 23 34 45]\n"
          ]
        }
      ]
    },
    {
      "cell_type": "code",
      "source": [
        "n4= np.full([2,3],89)\n",
        "print(n4)"
      ],
      "metadata": {
        "colab": {
          "base_uri": "https://localhost:8080/"
        },
        "id": "ZUAUFiLo2MYR",
        "outputId": "ce350c3f-aff4-403a-88c7-6d3069b4d74b"
      },
      "execution_count": null,
      "outputs": [
        {
          "output_type": "stream",
          "name": "stdout",
          "text": [
            "[[89 89 89]\n",
            " [89 89 89]]\n"
          ]
        }
      ]
    },
    {
      "cell_type": "markdown",
      "source": [
        "ACCESSING ARRAY"
      ],
      "metadata": {
        "id": "5mVxh-xNBOkS"
      }
    },
    {
      "cell_type": "code",
      "source": [
        "print(n3[-1])"
      ],
      "metadata": {
        "colab": {
          "base_uri": "https://localhost:8080/"
        },
        "id": "IKM2315xBTEx",
        "outputId": "dbf466ac-2376-4cfe-e69a-c7255b52d33d"
      },
      "execution_count": null,
      "outputs": [
        {
          "output_type": "stream",
          "name": "stdout",
          "text": [
            "45\n"
          ]
        }
      ]
    },
    {
      "cell_type": "code",
      "source": [
        "n5 = np.array([[1,2,3,4],[2,3,4,5],[3,4,5,6]])\n",
        "print(n5[1,:])\n",
        "print(n5[2,3])\n",
        "print(n5[:,2])"
      ],
      "metadata": {
        "colab": {
          "base_uri": "https://localhost:8080/"
        },
        "id": "AhPAg1VICVJn",
        "outputId": "035116c7-c622-44cc-eacd-3c4fe2a214dd"
      },
      "execution_count": null,
      "outputs": [
        {
          "output_type": "stream",
          "name": "stdout",
          "text": [
            "[2 3 4 5]\n",
            "6\n",
            "[3 4 5]\n"
          ]
        }
      ]
    },
    {
      "cell_type": "code",
      "source": [
        "n6 = np.array([[[1,2,3,4],[2,3,4,5],[3,4,5,6]],[[1,2,3,4],[2,3,4,5],[3,4,5,6]]])\n",
        "print(n6)"
      ],
      "metadata": {
        "colab": {
          "base_uri": "https://localhost:8080/"
        },
        "id": "q8lBgrL7QbFg",
        "outputId": "2f48e2e4-707c-4293-b264-50e24fb13396"
      },
      "execution_count": null,
      "outputs": [
        {
          "output_type": "stream",
          "name": "stdout",
          "text": [
            "[[[1 2 3 4]\n",
            "  [2 3 4 5]\n",
            "  [3 4 5 6]]\n",
            "\n",
            " [[1 2 3 4]\n",
            "  [2 3 4 5]\n",
            "  [3 4 5 6]]]\n"
          ]
        }
      ]
    },
    {
      "cell_type": "code",
      "source": [
        "n6[1,1,2] = 12\n",
        "print(n6)"
      ],
      "metadata": {
        "id": "OmXCuqFwQwGH",
        "colab": {
          "base_uri": "https://localhost:8080/"
        },
        "outputId": "4aebf273-2733-4f07-c8f3-9537ab887c40"
      },
      "execution_count": null,
      "outputs": [
        {
          "output_type": "stream",
          "name": "stdout",
          "text": [
            "[[[ 1  2  3  4]\n",
            "  [ 2  3  4  5]\n",
            "  [ 3  4  5  6]]\n",
            "\n",
            " [[ 1  2  3  4]\n",
            "  [ 2  3 12  5]\n",
            "  [ 3  4  5  6]]]\n"
          ]
        }
      ]
    },
    {
      "cell_type": "markdown",
      "source": [
        "SIZE AND SHAPE"
      ],
      "metadata": {
        "id": "dm8BqBm9DWKD"
      }
    },
    {
      "cell_type": "code",
      "source": [
        "n6.ndim"
      ],
      "metadata": {
        "colab": {
          "base_uri": "https://localhost:8080/"
        },
        "id": "JuqnU-PyDYXk",
        "outputId": "87ea29f2-bec0-439f-c704-0a01f0240992"
      },
      "execution_count": null,
      "outputs": [
        {
          "output_type": "execute_result",
          "data": {
            "text/plain": [
              "3"
            ]
          },
          "metadata": {},
          "execution_count": 17
        }
      ]
    },
    {
      "cell_type": "code",
      "source": [
        "n6.shape"
      ],
      "metadata": {
        "colab": {
          "base_uri": "https://localhost:8080/"
        },
        "id": "nilYDXx_DjqM",
        "outputId": "5783dd48-ab36-495f-89d2-0e56893d2d30"
      },
      "execution_count": null,
      "outputs": [
        {
          "output_type": "execute_result",
          "data": {
            "text/plain": [
              "(2, 3, 4)"
            ]
          },
          "metadata": {},
          "execution_count": 20
        }
      ]
    },
    {
      "cell_type": "code",
      "source": [
        "n6.size"
      ],
      "metadata": {
        "colab": {
          "base_uri": "https://localhost:8080/"
        },
        "id": "wOXAZNSnDo0-",
        "outputId": "fae35198-8119-43d2-a67e-b0b05e412f6f"
      },
      "execution_count": null,
      "outputs": [
        {
          "output_type": "execute_result",
          "data": {
            "text/plain": [
              "24"
            ]
          },
          "metadata": {},
          "execution_count": 23
        }
      ]
    },
    {
      "cell_type": "code",
      "source": [
        "n6.dtype"
      ],
      "metadata": {
        "colab": {
          "base_uri": "https://localhost:8080/"
        },
        "id": "r4kFmrTdDwiM",
        "outputId": "54d10285-631c-4c8a-e9dc-0e2e385e64f0"
      },
      "execution_count": null,
      "outputs": [
        {
          "output_type": "execute_result",
          "data": {
            "text/plain": [
              "dtype('int64')"
            ]
          },
          "metadata": {},
          "execution_count": 28
        }
      ]
    },
    {
      "cell_type": "code",
      "source": [
        "# memory required to store each element\n",
        "n6.itemsize"
      ],
      "metadata": {
        "colab": {
          "base_uri": "https://localhost:8080/"
        },
        "id": "dDS5rFq4D8e-",
        "outputId": "7abc2a82-9f37-4cd2-852d-b913d01384ad"
      },
      "execution_count": null,
      "outputs": [
        {
          "output_type": "execute_result",
          "data": {
            "text/plain": [
              "8"
            ]
          },
          "metadata": {},
          "execution_count": 31
        }
      ]
    },
    {
      "cell_type": "code",
      "source": [
        "# total memory to save the DS\n",
        "n6.nbytes"
      ],
      "metadata": {
        "colab": {
          "base_uri": "https://localhost:8080/"
        },
        "id": "vMbqZ9o4D1av",
        "outputId": "e928a864-696c-41e8-f642-aaac6ef8baf8"
      },
      "execution_count": null,
      "outputs": [
        {
          "output_type": "execute_result",
          "data": {
            "text/plain": [
              "192"
            ]
          },
          "metadata": {},
          "execution_count": 32
        }
      ]
    },
    {
      "cell_type": "markdown",
      "source": [
        "SORTING"
      ],
      "metadata": {
        "id": "Z0emHDt8EU-i"
      }
    },
    {
      "cell_type": "code",
      "source": [
        "sort_array = np.array([4,22,6,5,2,7,88,54,23,65,87,99])\n",
        "np.sort(sort_array)"
      ],
      "metadata": {
        "colab": {
          "base_uri": "https://localhost:8080/"
        },
        "id": "BKwYAkErED8Y",
        "outputId": "1e16aac4-ae90-4ee7-ea17-a45728203070"
      },
      "execution_count": null,
      "outputs": [
        {
          "output_type": "execute_result",
          "data": {
            "text/plain": [
              "array([ 2,  4,  5,  6,  7, 22, 23, 54, 65, 87, 88, 99])"
            ]
          },
          "metadata": {},
          "execution_count": 38
        }
      ]
    },
    {
      "cell_type": "code",
      "source": [
        "sarr = np.array([[3,8,34],[56,1,9]])\n",
        "np.sort(sarr)"
      ],
      "metadata": {
        "colab": {
          "base_uri": "https://localhost:8080/"
        },
        "id": "eqr2yfZCFPS9",
        "outputId": "02b1bb5d-bc69-409d-d7f0-9159cac131c7"
      },
      "execution_count": null,
      "outputs": [
        {
          "output_type": "execute_result",
          "data": {
            "text/plain": [
              "array([[ 3,  8, 34],\n",
              "       [ 1,  9, 56]])"
            ]
          },
          "metadata": {},
          "execution_count": 42
        }
      ]
    },
    {
      "cell_type": "code",
      "source": [
        "np.sort(sarr, axis=0)"
      ],
      "metadata": {
        "colab": {
          "base_uri": "https://localhost:8080/"
        },
        "id": "TvM6lyFUF78i",
        "outputId": "1d7d1ad2-a483-45f7-824c-9e352e6934df"
      },
      "execution_count": null,
      "outputs": [
        {
          "output_type": "execute_result",
          "data": {
            "text/plain": [
              "array([[ 3,  1,  9],\n",
              "       [56,  8, 34]])"
            ]
          },
          "metadata": {},
          "execution_count": 45
        }
      ]
    },
    {
      "cell_type": "markdown",
      "source": [
        "RESHAPING AND ARRAY CONVERSATION"
      ],
      "metadata": {
        "id": "3uSC668VGgWg"
      }
    },
    {
      "cell_type": "code",
      "source": [
        "n7= sort_array.reshape(3,4)\n",
        "print(n7)"
      ],
      "metadata": {
        "colab": {
          "base_uri": "https://localhost:8080/"
        },
        "id": "zJ1YUKq8GfbM",
        "outputId": "69355120-df54-4631-9d93-8c884145466b"
      },
      "execution_count": null,
      "outputs": [
        {
          "output_type": "stream",
          "name": "stdout",
          "text": [
            "[[ 4 22  6  5]\n",
            " [ 2  7 88 54]\n",
            " [23 65 87 99]]\n"
          ]
        }
      ]
    },
    {
      "cell_type": "code",
      "source": [
        "#Join 2 arrays using concatenate\n",
        "n8 = np.arange(4)\n",
        "print(n8)\n",
        "n9 = np.arange(5,9)\n",
        "print(n9)\n",
        "n10 = np.concatenate([n8,n9])\n",
        "print(n10)"
      ],
      "metadata": {
        "colab": {
          "base_uri": "https://localhost:8080/"
        },
        "id": "GDUq3xyxHP6a",
        "outputId": "5cae3808-4950-464b-b05c-dd601ce0f398"
      },
      "execution_count": null,
      "outputs": [
        {
          "output_type": "stream",
          "name": "stdout",
          "text": [
            "[0 1 2 3]\n",
            "[5 6 7 8]\n",
            "[0 1 2 3 5 6 7 8]\n"
          ]
        }
      ]
    },
    {
      "cell_type": "code",
      "source": [
        "n11 = sort_array[np.newaxis, :]\n",
        "print(n11)\n",
        "print(n11.shape)\n",
        "n12 = sort_array[:, np.newaxis]\n",
        "print(n12)\n",
        "print(n12.shape)"
      ],
      "metadata": {
        "colab": {
          "base_uri": "https://localhost:8080/"
        },
        "id": "0wLteFg6IePM",
        "outputId": "29104273-ead6-4267-d8b6-548c7ba888c4"
      },
      "execution_count": null,
      "outputs": [
        {
          "output_type": "stream",
          "name": "stdout",
          "text": [
            "[[ 4 22  6  5  2  7 88 54 23 65 87 99]]\n",
            "(1, 12)\n",
            "[[ 4]\n",
            " [22]\n",
            " [ 6]\n",
            " [ 5]\n",
            " [ 2]\n",
            " [ 7]\n",
            " [88]\n",
            " [54]\n",
            " [23]\n",
            " [65]\n",
            " [87]\n",
            " [99]]\n",
            "(12, 1)\n"
          ]
        }
      ]
    },
    {
      "cell_type": "markdown",
      "source": [
        "INDEXING ANS SLICING\n"
      ],
      "metadata": {
        "id": "_s_REtEZJ61F"
      }
    },
    {
      "cell_type": "code",
      "source": [
        "n10 = np.arange(10)\n",
        "print(n10)"
      ],
      "metadata": {
        "colab": {
          "base_uri": "https://localhost:8080/"
        },
        "id": "aG-hDt7VJ9dH",
        "outputId": "58007cb6-08ad-4075-8db5-e86e8054f14c"
      },
      "execution_count": null,
      "outputs": [
        {
          "output_type": "stream",
          "name": "stdout",
          "text": [
            "[0 1 2 3 4 5 6 7 8 9]\n"
          ]
        }
      ]
    },
    {
      "cell_type": "code",
      "source": [
        "print(n10[n10>5])\n",
        "print(n10[(n10>3) & (n10<7)])"
      ],
      "metadata": {
        "colab": {
          "base_uri": "https://localhost:8080/"
        },
        "id": "c8SyHSQ_KG0d",
        "outputId": "ee5b0b59-c7a2-4501-9536-0d6ca047e4cf"
      },
      "execution_count": null,
      "outputs": [
        {
          "output_type": "stream",
          "name": "stdout",
          "text": [
            "[6 7 8 9]\n",
            "[4 5 6]\n"
          ]
        }
      ]
    },
    {
      "cell_type": "markdown",
      "source": [
        "STACK AND SPLIT"
      ],
      "metadata": {
        "id": "l5lxljXwLE1t"
      }
    },
    {
      "cell_type": "code",
      "source": [
        "n11 = np.array([[3,5],[7,9]])\n",
        "n12 = np.array([[1,4],[2,5]])\n",
        "print(np.hstack((n11,n12)))\n",
        "print(np.vstack((n11,n12)))\n"
      ],
      "metadata": {
        "colab": {
          "base_uri": "https://localhost:8080/"
        },
        "id": "YbRh-cczLHGn",
        "outputId": "e9b8570d-c684-4932-c593-3fda2dcf2fef"
      },
      "execution_count": null,
      "outputs": [
        {
          "output_type": "stream",
          "name": "stdout",
          "text": [
            "[[3 5 1 4]\n",
            " [7 9 2 5]]\n",
            "[[3 5]\n",
            " [7 9]\n",
            " [1 4]\n",
            " [2 5]]\n"
          ]
        }
      ]
    },
    {
      "cell_type": "code",
      "source": [
        "n13= np.arange(20)\n",
        "print(n13)\n",
        "np.hsplit(n13,4)"
      ],
      "metadata": {
        "colab": {
          "base_uri": "https://localhost:8080/"
        },
        "id": "kAfDjbe8L5R5",
        "outputId": "d1e27213-419d-497a-e194-f34dbc2c2153"
      },
      "execution_count": null,
      "outputs": [
        {
          "output_type": "stream",
          "name": "stdout",
          "text": [
            "[ 0  1  2  3  4  5  6  7  8  9 10 11 12 13 14 15 16 17 18 19]\n"
          ]
        },
        {
          "output_type": "execute_result",
          "data": {
            "text/plain": [
              "[array([0, 1, 2, 3, 4]),\n",
              " array([5, 6, 7, 8, 9]),\n",
              " array([10, 11, 12, 13, 14]),\n",
              " array([15, 16, 17, 18, 19])]"
            ]
          },
          "metadata": {},
          "execution_count": 76
        }
      ]
    },
    {
      "cell_type": "markdown",
      "source": [
        "COPY"
      ],
      "metadata": {
        "id": "yXEe3v0pRC3m"
      }
    },
    {
      "cell_type": "code",
      "source": [
        "n14= n13\n",
        "n13[3]=100\n",
        "print(n13)\n",
        "print(n14)"
      ],
      "metadata": {
        "colab": {
          "base_uri": "https://localhost:8080/"
        },
        "id": "1T9ag91NRD-z",
        "outputId": "02754cbc-8d22-42ac-c482-192f19186b5b"
      },
      "execution_count": null,
      "outputs": [
        {
          "output_type": "stream",
          "name": "stdout",
          "text": [
            "[  0   1   2 100   4   5   6   7   8   9  10  11  12  13  14  15  16  17\n",
            "  18  19]\n",
            "[  0   1   2 100   4   5   6   7   8   9  10  11  12  13  14  15  16  17\n",
            "  18  19]\n"
          ]
        }
      ]
    },
    {
      "cell_type": "code",
      "source": [
        "n15= n14.copy()\n",
        "n14[1]= 22\n",
        "print(n14)\n",
        "print(n15)\n",
        "\n"
      ],
      "metadata": {
        "colab": {
          "base_uri": "https://localhost:8080/"
        },
        "id": "c1HD2lQURVVF",
        "outputId": "73a06c16-2102-45d9-9a71-55b70062df39"
      },
      "execution_count": null,
      "outputs": [
        {
          "output_type": "stream",
          "name": "stdout",
          "text": [
            "[  0  22   2 100   4   5   6   7   8   9  10  11  12  13  14  15  16  17\n",
            "  18  19]\n",
            "[  0   2   2 100   4   5   6   7   8   9  10  11  12  13  14  15  16  17\n",
            "  18  19]\n"
          ]
        }
      ]
    },
    {
      "cell_type": "markdown",
      "source": [
        "MATH\n"
      ],
      "metadata": {
        "id": "nST1G2gISRyF"
      }
    },
    {
      "cell_type": "code",
      "source": [
        "n15 = np.array([[1,3],[4,5]])\n",
        "n16 = np.array([[2,4],[7,8]])\n",
        "print(n15+n16)"
      ],
      "metadata": {
        "colab": {
          "base_uri": "https://localhost:8080/"
        },
        "id": "LG2fdCXVSTUH",
        "outputId": "0e09f632-934c-4232-b08b-6c5c352399d7"
      },
      "execution_count": null,
      "outputs": [
        {
          "output_type": "stream",
          "name": "stdout",
          "text": [
            "[[ 3  7]\n",
            " [11 13]]\n"
          ]
        }
      ]
    }
  ]
}